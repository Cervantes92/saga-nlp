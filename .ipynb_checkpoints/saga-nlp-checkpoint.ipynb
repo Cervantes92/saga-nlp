{
 "cells": [
  {
   "cell_type": "markdown",
   "metadata": {},
   "source": [
    "## Prepare Dependencies"
   ]
  },
  {
   "cell_type": "code",
   "execution_count": 1,
   "metadata": {},
   "outputs": [],
   "source": [
    "import pandas as pd\n",
    "import nltk\n",
    "import spacy\n",
    "\n",
    "from sklearn.feature_extraction.text import TfidfVectorizer\n",
    "\n",
    "from os import listdir\n",
    "from os.path import isfile, join\n",
    "\n",
    "from gensim import corpora, models"
   ]
  },
  {
   "cell_type": "code",
   "execution_count": 2,
   "metadata": {},
   "outputs": [],
   "source": [
    "#Global Variables\n",
    "nlp = spacy.load('en')"
   ]
  },
  {
   "cell_type": "markdown",
   "metadata": {},
   "source": [
    "## Helper Functions"
   ]
  },
  {
   "cell_type": "code",
   "execution_count": 3,
   "metadata": {},
   "outputs": [],
   "source": [
    "def string_maker(file_path):\n",
    "    with open(str(file_path), 'r') as f_open:\n",
    "        results = f_open.read()\n",
    "    return results"
   ]
  },
  {
   "cell_type": "code",
   "execution_count": null,
   "metadata": {},
   "outputs": [],
   "source": [
    "w_tokenizer = nltk.tokenize.WhitespaceTokenizer()\n",
    "lemmatizer = nltk.stem.WordNetLemmatizer()"
   ]
  },
  {
   "cell_type": "markdown",
   "metadata": {},
   "source": [
    "## Wrangle Data"
   ]
  },
  {
   "cell_type": "code",
   "execution_count": 4,
   "metadata": {},
   "outputs": [
    {
     "name": "stdout",
     "output_type": "stream",
     "text": [
      "['laxdaela_saga.en2.txt', 'kormaks_saga.en.txt', 'haensna-thoris_saga.en2.txt', 'havardar_saga_isfirdings.en.txt', 'haensna-thoris_saga.en.txt', 'viga-glums_saga.en.txt', 'hrafnkels_saga_freysgoda.en.txt', 'viglundar_saga.en.txt', 'faereyinga_saga.en.txt', 'grettis_saga.en2.txt', 'laxdaela_saga.en.txt', 'egils_saga.en.txt', 'bandamanna_saga.en2.txt', 'heidarviga_saga.en.txt', 'grettis_saga.en.txt', 'eyrbyggja_saga.en.txt', 'thordar_saga_hredu.en.txt', 'eiriks_saga_rauda.en.txt', 'gunnlaugs_saga_ormstungu.en.txt', 'bandamanna_saga.en.txt', 'brennu-njals_saga.en.txt', 'gisla_saga_surssonar.en.txt']\n"
     ]
    }
   ],
   "source": [
    "file_names = []\n",
    "for file in listdir('saga/english/'):\n",
    "    file_names.append(str(file))\n",
    "\n",
    "print(file_names)"
   ]
  },
  {
   "cell_type": "code",
   "execution_count": 5,
   "metadata": {},
   "outputs": [],
   "source": [
    "#Import the text from every document as an entry in a dataframe\n",
    "corpus = []\n",
    "raw = pd.DataFrame()\n",
    "\n",
    "for book in file_names:\n",
    "    corpus.append(string_maker('saga/english/{}'.format(str(book))))\n",
    "\n",
    "raw['saga_name'] = file_names\n",
    "raw['text'] = corpus"
   ]
  },
  {
   "cell_type": "code",
   "execution_count": 6,
   "metadata": {},
   "outputs": [
    {
     "data": {
      "text/html": [
       "<div>\n",
       "<style scoped>\n",
       "    .dataframe tbody tr th:only-of-type {\n",
       "        vertical-align: middle;\n",
       "    }\n",
       "\n",
       "    .dataframe tbody tr th {\n",
       "        vertical-align: top;\n",
       "    }\n",
       "\n",
       "    .dataframe thead th {\n",
       "        text-align: right;\n",
       "    }\n",
       "</style>\n",
       "<table border=\"1\" class=\"dataframe\">\n",
       "  <thead>\n",
       "    <tr style=\"text-align: right;\">\n",
       "      <th></th>\n",
       "      <th>saga_name</th>\n",
       "      <th>text</th>\n",
       "    </tr>\n",
       "  </thead>\n",
       "  <tbody>\n",
       "    <tr>\n",
       "      <th>0</th>\n",
       "      <td>laxdaela_saga.en2.txt</td>\n",
       "      <td>\\nThe Story of the Laxdalers\\n1903 translation...</td>\n",
       "    </tr>\n",
       "    <tr>\n",
       "      <th>1</th>\n",
       "      <td>kormaks_saga.en.txt</td>\n",
       "      <td>\\nThe Saga of Cormac the Skald\\n1901 translati...</td>\n",
       "    </tr>\n",
       "    <tr>\n",
       "      <th>2</th>\n",
       "      <td>haensna-thoris_saga.en2.txt</td>\n",
       "      <td>\\nHænsa-Thori's Saga\\n2002 translation into En...</td>\n",
       "    </tr>\n",
       "    <tr>\n",
       "      <th>3</th>\n",
       "      <td>havardar_saga_isfirdings.en.txt</td>\n",
       "      <td>\\nThe Story of Howard the Halt\\n1891 translati...</td>\n",
       "    </tr>\n",
       "    <tr>\n",
       "      <th>4</th>\n",
       "      <td>haensna-thoris_saga.en.txt</td>\n",
       "      <td>\\nThe Story of Hen-Thorir\\n1891 translation in...</td>\n",
       "    </tr>\n",
       "  </tbody>\n",
       "</table>\n",
       "</div>"
      ],
      "text/plain": [
       "                         saga_name  \\\n",
       "0            laxdaela_saga.en2.txt   \n",
       "1              kormaks_saga.en.txt   \n",
       "2      haensna-thoris_saga.en2.txt   \n",
       "3  havardar_saga_isfirdings.en.txt   \n",
       "4       haensna-thoris_saga.en.txt   \n",
       "\n",
       "                                                text  \n",
       "0  \\nThe Story of the Laxdalers\\n1903 translation...  \n",
       "1  \\nThe Saga of Cormac the Skald\\n1901 translati...  \n",
       "2  \\nHænsa-Thori's Saga\\n2002 translation into En...  \n",
       "3  \\nThe Story of Howard the Halt\\n1891 translati...  \n",
       "4  \\nThe Story of Hen-Thorir\\n1891 translation in...  "
      ]
     },
     "execution_count": 6,
     "metadata": {},
     "output_type": "execute_result"
    }
   ],
   "source": [
    "raw.head()"
   ]
  },
  {
   "cell_type": "markdown",
   "metadata": {},
   "source": [
    "## Clean Text"
   ]
  },
  {
   "cell_type": "code",
   "execution_count": 7,
   "metadata": {},
   "outputs": [
    {
     "name": "stdout",
     "output_type": "stream",
     "text": [
      "The Story of the Laxdalers\n"
     ]
    },
    {
     "data": {
      "text/html": [
       "<div>\n",
       "<style scoped>\n",
       "    .dataframe tbody tr th:only-of-type {\n",
       "        vertical-align: middle;\n",
       "    }\n",
       "\n",
       "    .dataframe tbody tr th {\n",
       "        vertical-align: top;\n",
       "    }\n",
       "\n",
       "    .dataframe thead th {\n",
       "        text-align: right;\n",
       "    }\n",
       "</style>\n",
       "<table border=\"1\" class=\"dataframe\">\n",
       "  <thead>\n",
       "    <tr style=\"text-align: right;\">\n",
       "      <th></th>\n",
       "      <th>chapter_title</th>\n",
       "      <th>chapter_text</th>\n",
       "    </tr>\n",
       "  </thead>\n",
       "  <tbody>\n",
       "    <tr>\n",
       "      <th>0</th>\n",
       "      <td>Chapter 1</td>\n",
       "      <td>Ketil Flatneb hight a man, the son of Bjorn Ro...</td>\n",
       "    </tr>\n",
       "    <tr>\n",
       "      <th>1</th>\n",
       "      <td>Chapter 2</td>\n",
       "      <td>In the latter days of Ketil came to pass the r...</td>\n",
       "    </tr>\n",
       "    <tr>\n",
       "      <th>2</th>\n",
       "      <td>Chapter 3</td>\n",
       "      <td>After that had Ketil a very great guesting. Th...</td>\n",
       "    </tr>\n",
       "    <tr>\n",
       "      <th>3</th>\n",
       "      <td>Chapter 4</td>\n",
       "      <td>Ketil Flatneb came in his ship to Scotland and...</td>\n",
       "    </tr>\n",
       "    <tr>\n",
       "      <th>4</th>\n",
       "      <td>Chapter 5</td>\n",
       "      <td>Now Unn makes ready to depart from the Sheep-i...</td>\n",
       "    </tr>\n",
       "  </tbody>\n",
       "</table>\n",
       "</div>"
      ],
      "text/plain": [
       "  chapter_title                                       chapter_text\n",
       "0     Chapter 1  Ketil Flatneb hight a man, the son of Bjorn Ro...\n",
       "1     Chapter 2  In the latter days of Ketil came to pass the r...\n",
       "2     Chapter 3  After that had Ketil a very great guesting. Th...\n",
       "3     Chapter 4  Ketil Flatneb came in his ship to Scotland and...\n",
       "4     Chapter 5  Now Unn makes ready to depart from the Sheep-i..."
      ]
     },
     "execution_count": 7,
     "metadata": {},
     "output_type": "execute_result"
    }
   ],
   "source": [
    "def book_lines(raw, num):\n",
    "    \n",
    "    lines = []\n",
    "    \n",
    "    for i, line in enumerate(raw.loc[0, 'text'].split('\\n')):\n",
    "        \n",
    "        if len(line) > 0 and 'translation into English' not in line and not line.isspace():\n",
    "            lines.append(line)\n",
    "        \n",
    "    return lines\n",
    "\n",
    "lines = book_lines(raw, 0)\n",
    "\n",
    "def chapter_by_lines(lines):\n",
    "    \n",
    "    book_title = lines[0]\n",
    "    chapter_titles = []\n",
    "    chapter_texts = []\n",
    "    \n",
    "    book = pd.DataFrame()\n",
    "    \n",
    "    ch = -1\n",
    "    \n",
    "    for i, line in enumerate(lines):\n",
    "        \n",
    "        if i == 0:\n",
    "            print(line)\n",
    "            continue\n",
    "        \n",
    "        if 'Chapter' in line and any(char.isdigit() for char in line):\n",
    "            chapter_titles.append(line)\n",
    "            chapter_texts.append('')\n",
    "            ch += 1\n",
    "            \n",
    "            continue\n",
    "            print('Unreachable print statement')\n",
    "        \n",
    "        if len(line) > 0 and 'translation into English' not in line and not line.isspace():\n",
    "            chapter_texts[ch] += line\n",
    "        \n",
    "    book['chapter_title'] = chapter_titles\n",
    "    book['chapter_text'] = chapter_texts\n",
    "    \n",
    "    return book\n",
    "\n",
    "Laxdalers = chapter_by_lines(lines)\n",
    "Laxdalers.head()"
   ]
  },
  {
   "cell_type": "code",
   "execution_count": 8,
   "metadata": {},
   "outputs": [],
   "source": [
    "tfidf = TfidfVectorizer(max_df=0.5, # drop words that occur in more than half the paragraphs\n",
    "                             min_df=2, # only use words that appear at least twice\n",
    "                             stop_words='english',\n",
    "                             lowercase=True, #convert everything to lower case\n",
    "                             use_idf=True,#we definitely want to use inverse document frequencies in our weighting\n",
    "                             norm=u'l2', #Applies a correction factor so that longer paragraphs and shorter paragraphs get treated equally\n",
    "                             smooth_idf=True #Adds 1 to all document frequencies, as if an extra document existed that used every word once.  Prevents divide-by-zero errors\n",
    "                            )"
   ]
  },
  {
   "cell_type": "markdown",
   "metadata": {},
   "source": [
    "## Topic Extraction"
   ]
  },
  {
   "cell_type": "code",
   "execution_count": null,
   "metadata": {},
   "outputs": [],
   "source": [
    "def tfidf_this(series, tfidf):\n",
    "    x = tfidf.fit_transform(series)\n",
    "    tfidf_results = pd.DataFrame(index = tfidf.vocabulary_)\n",
    "    tfidf_results['score'] = tfidf.idf_\n",
    "    return tfidf_results\n",
    "\n"
   ]
  }
 ],
 "metadata": {
  "kernelspec": {
   "display_name": "Python 3",
   "language": "python",
   "name": "python3"
  },
  "language_info": {
   "codemirror_mode": {
    "name": "ipython",
    "version": 3
   },
   "file_extension": ".py",
   "mimetype": "text/x-python",
   "name": "python",
   "nbconvert_exporter": "python",
   "pygments_lexer": "ipython3",
   "version": "3.6.8"
  }
 },
 "nbformat": 4,
 "nbformat_minor": 2
}
