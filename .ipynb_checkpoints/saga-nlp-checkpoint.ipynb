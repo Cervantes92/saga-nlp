{
 "cells": [
  {
   "cell_type": "markdown",
   "metadata": {},
   "source": [
    "## Prepare Dependencies"
   ]
  },
  {
   "cell_type": "code",
   "execution_count": 1,
   "metadata": {},
   "outputs": [],
   "source": [
    "import pandas as pd\n",
    "import nltk\n",
    "import spacy\n",
    "from os import listdir\n",
    "from os.path import isfile, join\n",
    "\n",
    "from gensim import corpora, models"
   ]
  },
  {
   "cell_type": "code",
   "execution_count": 2,
   "metadata": {},
   "outputs": [],
   "source": [
    "#Global Variables\n",
    "nlp = spacy.load('en')"
   ]
  },
  {
   "cell_type": "markdown",
   "metadata": {},
   "source": [
    "## Helper Functions"
   ]
  },
  {
   "cell_type": "code",
   "execution_count": 3,
   "metadata": {},
   "outputs": [],
   "source": [
    "def string_maker(file_path):\n",
    "    with open(str(file_path), 'r') as f_open:\n",
    "        results = f_open.read()\n",
    "    return results"
   ]
  },
  {
   "cell_type": "markdown",
   "metadata": {},
   "source": [
    "## Wrangle Data"
   ]
  },
  {
   "cell_type": "code",
   "execution_count": 4,
   "metadata": {},
   "outputs": [
    {
     "name": "stdout",
     "output_type": "stream",
     "text": [
      "['laxdaela_saga.en2.txt', 'kormaks_saga.en.txt', 'haensna-thoris_saga.en2.txt', 'havardar_saga_isfirdings.en.txt', 'haensna-thoris_saga.en.txt', 'viga-glums_saga.en.txt', 'hrafnkels_saga_freysgoda.en.txt', 'viglundar_saga.en.txt', 'faereyinga_saga.en.txt', 'grettis_saga.en2.txt', 'laxdaela_saga.en.txt', 'egils_saga.en.txt', 'bandamanna_saga.en2.txt', 'heidarviga_saga.en.txt', 'grettis_saga.en.txt', 'eyrbyggja_saga.en.txt', 'thordar_saga_hredu.en.txt', 'eiriks_saga_rauda.en.txt', 'gunnlaugs_saga_ormstungu.en.txt', 'bandamanna_saga.en.txt', 'brennu-njals_saga.en.txt', 'gisla_saga_surssonar.en.txt']\n"
     ]
    }
   ],
   "source": [
    "file_names = []\n",
    "for file in listdir('saga/english/'):\n",
    "    file_names.append(str(file))\n",
    "\n",
    "print(file_names)"
   ]
  },
  {
   "cell_type": "code",
   "execution_count": 5,
   "metadata": {},
   "outputs": [],
   "source": [
    "#Import the text from every document as an entry in a dataframe\n",
    "corpus = []\n",
    "raw = pd.DataFrame()\n",
    "\n",
    "for book in file_names:\n",
    "    corpus.append(string_maker('saga/english/{}'.format(str(book))))\n",
    "\n",
    "raw['saga_name'] = file_names\n",
    "raw['text'] = corpus"
   ]
  },
  {
   "cell_type": "code",
   "execution_count": 6,
   "metadata": {},
   "outputs": [
    {
     "data": {
      "text/html": [
       "<div>\n",
       "<style scoped>\n",
       "    .dataframe tbody tr th:only-of-type {\n",
       "        vertical-align: middle;\n",
       "    }\n",
       "\n",
       "    .dataframe tbody tr th {\n",
       "        vertical-align: top;\n",
       "    }\n",
       "\n",
       "    .dataframe thead th {\n",
       "        text-align: right;\n",
       "    }\n",
       "</style>\n",
       "<table border=\"1\" class=\"dataframe\">\n",
       "  <thead>\n",
       "    <tr style=\"text-align: right;\">\n",
       "      <th></th>\n",
       "      <th>saga_name</th>\n",
       "      <th>text</th>\n",
       "    </tr>\n",
       "  </thead>\n",
       "  <tbody>\n",
       "    <tr>\n",
       "      <th>0</th>\n",
       "      <td>laxdaela_saga.en2.txt</td>\n",
       "      <td>\\nThe Story of the Laxdalers\\n1903 translation...</td>\n",
       "    </tr>\n",
       "    <tr>\n",
       "      <th>1</th>\n",
       "      <td>kormaks_saga.en.txt</td>\n",
       "      <td>\\nThe Saga of Cormac the Skald\\n1901 translati...</td>\n",
       "    </tr>\n",
       "    <tr>\n",
       "      <th>2</th>\n",
       "      <td>haensna-thoris_saga.en2.txt</td>\n",
       "      <td>\\nHænsa-Thori's Saga\\n2002 translation into En...</td>\n",
       "    </tr>\n",
       "    <tr>\n",
       "      <th>3</th>\n",
       "      <td>havardar_saga_isfirdings.en.txt</td>\n",
       "      <td>\\nThe Story of Howard the Halt\\n1891 translati...</td>\n",
       "    </tr>\n",
       "    <tr>\n",
       "      <th>4</th>\n",
       "      <td>haensna-thoris_saga.en.txt</td>\n",
       "      <td>\\nThe Story of Hen-Thorir\\n1891 translation in...</td>\n",
       "    </tr>\n",
       "  </tbody>\n",
       "</table>\n",
       "</div>"
      ],
      "text/plain": [
       "                         saga_name  \\\n",
       "0            laxdaela_saga.en2.txt   \n",
       "1              kormaks_saga.en.txt   \n",
       "2      haensna-thoris_saga.en2.txt   \n",
       "3  havardar_saga_isfirdings.en.txt   \n",
       "4       haensna-thoris_saga.en.txt   \n",
       "\n",
       "                                                text  \n",
       "0  \\nThe Story of the Laxdalers\\n1903 translation...  \n",
       "1  \\nThe Saga of Cormac the Skald\\n1901 translati...  \n",
       "2  \\nHænsa-Thori's Saga\\n2002 translation into En...  \n",
       "3  \\nThe Story of Howard the Halt\\n1891 translati...  \n",
       "4  \\nThe Story of Hen-Thorir\\n1891 translation in...  "
      ]
     },
     "execution_count": 6,
     "metadata": {},
     "output_type": "execute_result"
    }
   ],
   "source": [
    "raw.head()"
   ]
  },
  {
   "cell_type": "markdown",
   "metadata": {},
   "source": [
    "## Clean Text"
   ]
  },
  {
   "cell_type": "code",
   "execution_count": 9,
   "metadata": {},
   "outputs": [
    {
     "name": "stdout",
     "output_type": "stream",
     "text": [
      "\n",
      "The Story of the Laxdalers\n",
      "1903 tra\n",
      "slatio\n",
      " i\n",
      "to E\n",
      "glish by Robert Proctor from the origi\n"
     ]
    }
   ],
   "source": [
    "n = 0\n",
    "for line in raw.loc[0, 'text'].split('n'):\n",
    "    if n < 5:\n",
    "        print(line)\n",
    "        n += 1\n",
    "    "
   ]
  },
  {
   "cell_type": "code",
   "execution_count": 8,
   "metadata": {},
   "outputs": [],
   "source": [
    "w_tokenizer = nltk.tokenize.WhitespaceTokenizer()\n",
    "lemmatizer = nltk.stem.WordNetLemmatizer()"
   ]
  },
  {
   "cell_type": "markdown",
   "metadata": {},
   "source": [
    "## Topic Extraction"
   ]
  },
  {
   "cell_type": "code",
   "execution_count": null,
   "metadata": {},
   "outputs": [],
   "source": []
  }
 ],
 "metadata": {
  "kernelspec": {
   "display_name": "Python 3",
   "language": "python",
   "name": "python3"
  },
  "language_info": {
   "codemirror_mode": {
    "name": "ipython",
    "version": 3
   },
   "file_extension": ".py",
   "mimetype": "text/x-python",
   "name": "python",
   "nbconvert_exporter": "python",
   "pygments_lexer": "ipython3",
   "version": "3.6.8"
  }
 },
 "nbformat": 4,
 "nbformat_minor": 2
}
