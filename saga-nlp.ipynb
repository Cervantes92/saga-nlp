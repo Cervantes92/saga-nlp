{
 "cells": [
  {
   "cell_type": "markdown",
   "metadata": {},
   "source": [
    "## Prepare Dependencies"
   ]
  },
  {
   "cell_type": "code",
   "execution_count": 1,
   "metadata": {},
   "outputs": [],
   "source": [
    "import pandas as pd\n",
    "import nltk\n",
    "import spacy\n",
    "import gensim\n",
    "import matplotlib.pyplot as plt\n",
    "from sklearn.feature_extraction.text import TfidfVectorizer\n",
    "from gensim import corpora, models\n",
    "from gensim.models import Word2Vec\n",
    "from nltk.tokenize import sent_tokenize, word_tokenize \n",
    "\n",
    "from os import listdir\n",
    "from os.path import isfile, join\n",
    "\n",
    "#Stopwords dictionary\n",
    "stop = nltk.corpus.stopwords.words('english')"
   ]
  },
  {
   "cell_type": "code",
   "execution_count": 2,
   "metadata": {},
   "outputs": [],
   "source": [
    "#Global Variables\n",
    "nlp = spacy.load('en')"
   ]
  },
  {
   "cell_type": "markdown",
   "metadata": {},
   "source": [
    "## Helper Functions"
   ]
  },
  {
   "cell_type": "code",
   "execution_count": 3,
   "metadata": {},
   "outputs": [],
   "source": [
    "def string_maker(file_path):\n",
    "    with open(str(file_path), 'r') as f_open:\n",
    "        results = f_open.read()\n",
    "    return results\n",
    "\n",
    "def word_parser(series):\n",
    "    texts = []\n",
    "    \n",
    "    for entry in series:\n",
    "        \n",
    "        #Lowercase\n",
    "        raw = entry.lower()\n",
    "        \n",
    "        #tokenize\n",
    "        tokens = w_tokenizer.tokenize(raw)\n",
    "        \n",
    "        #Removing stopwords and lemmatization\n",
    "        \n",
    "        stemmed_tokens = []\n",
    "        for i in tokens:\n",
    "            if i not in stop:\n",
    "                stemmed_tokens.append(lemmatizer.lemmatize(i))\n",
    "        \n",
    "        #Add to list\n",
    "        texts.append(stemmed_tokens)\n",
    "        \n",
    "    return texts\n",
    "    \n",
    "def tokenizer(text):\n",
    "    \n",
    "    cleaned_text = text.replace('\\n', ' ')\n",
    "    \n",
    "    tokens = []\n",
    "    for i in sent_tokenize(cleaned_text):\n",
    "        \n",
    "        words = []\n",
    "        for j in word_tokenize(i):\n",
    "            words.append(j.lower())\n",
    "        \n",
    "        tokens.append(words)\n",
    "    \n",
    "    return tokens\n",
    "\n",
    "def corpus_stringer(text_series):\n",
    "    return_string = ''\n",
    "    for entry in text_series.values:\n",
    "        append_string = ' ' + entry\n",
    "        return_string += append_string\n",
    "        \n",
    "    return return_string"
   ]
  },
  {
   "cell_type": "code",
   "execution_count": 4,
   "metadata": {},
   "outputs": [],
   "source": [
    "w_tokenizer = nltk.tokenize.WhitespaceTokenizer()\n",
    "lemmatizer = nltk.stem.WordNetLemmatizer()"
   ]
  },
  {
   "cell_type": "markdown",
   "metadata": {},
   "source": [
    "## Wrangle Data"
   ]
  },
  {
   "cell_type": "code",
   "execution_count": 5,
   "metadata": {},
   "outputs": [
    {
     "name": "stdout",
     "output_type": "stream",
     "text": [
      "['laxdaela_saga.en2.txt', 'kormaks_saga.en.txt', 'haensna-thoris_saga.en2.txt', 'havardar_saga_isfirdings.en.txt', 'haensna-thoris_saga.en.txt', 'viga-glums_saga.en.txt', 'hrafnkels_saga_freysgoda.en.txt', 'viglundar_saga.en.txt', 'faereyinga_saga.en.txt', 'grettis_saga.en2.txt', 'laxdaela_saga.en.txt', 'egils_saga.en.txt', 'bandamanna_saga.en2.txt', 'heidarviga_saga.en.txt', 'grettis_saga.en.txt', 'eyrbyggja_saga.en.txt', 'thordar_saga_hredu.en.txt', 'eiriks_saga_rauda.en.txt', 'gunnlaugs_saga_ormstungu.en.txt', 'bandamanna_saga.en.txt', 'brennu-njals_saga.en.txt', 'gisla_saga_surssonar.en.txt']\n"
     ]
    }
   ],
   "source": [
    "file_names = []\n",
    "for file in listdir('saga/english/'):\n",
    "    file_names.append(str(file))\n",
    "\n",
    "print(file_names)"
   ]
  },
  {
   "cell_type": "code",
   "execution_count": 6,
   "metadata": {},
   "outputs": [],
   "source": [
    "#Import the text from every document as an entry in a dataframe\n",
    "corpus = []\n",
    "raw = pd.DataFrame()\n",
    "\n",
    "for book in file_names:\n",
    "    corpus.append(string_maker('saga/english/{}'.format(str(book))))\n",
    "\n",
    "raw['saga_name'] = file_names\n",
    "raw['text'] = corpus"
   ]
  },
  {
   "cell_type": "code",
   "execution_count": 7,
   "metadata": {},
   "outputs": [
    {
     "data": {
      "text/html": [
       "<div>\n",
       "<style scoped>\n",
       "    .dataframe tbody tr th:only-of-type {\n",
       "        vertical-align: middle;\n",
       "    }\n",
       "\n",
       "    .dataframe tbody tr th {\n",
       "        vertical-align: top;\n",
       "    }\n",
       "\n",
       "    .dataframe thead th {\n",
       "        text-align: right;\n",
       "    }\n",
       "</style>\n",
       "<table border=\"1\" class=\"dataframe\">\n",
       "  <thead>\n",
       "    <tr style=\"text-align: right;\">\n",
       "      <th></th>\n",
       "      <th>saga_name</th>\n",
       "      <th>text</th>\n",
       "    </tr>\n",
       "  </thead>\n",
       "  <tbody>\n",
       "    <tr>\n",
       "      <th>0</th>\n",
       "      <td>laxdaela_saga.en2.txt</td>\n",
       "      <td>\\nThe Story of the Laxdalers\\n1903 translation...</td>\n",
       "    </tr>\n",
       "    <tr>\n",
       "      <th>1</th>\n",
       "      <td>kormaks_saga.en.txt</td>\n",
       "      <td>\\nThe Saga of Cormac the Skald\\n1901 translati...</td>\n",
       "    </tr>\n",
       "    <tr>\n",
       "      <th>2</th>\n",
       "      <td>haensna-thoris_saga.en2.txt</td>\n",
       "      <td>\\nHænsa-Thori's Saga\\n2002 translation into En...</td>\n",
       "    </tr>\n",
       "    <tr>\n",
       "      <th>3</th>\n",
       "      <td>havardar_saga_isfirdings.en.txt</td>\n",
       "      <td>\\nThe Story of Howard the Halt\\n1891 translati...</td>\n",
       "    </tr>\n",
       "    <tr>\n",
       "      <th>4</th>\n",
       "      <td>haensna-thoris_saga.en.txt</td>\n",
       "      <td>\\nThe Story of Hen-Thorir\\n1891 translation in...</td>\n",
       "    </tr>\n",
       "    <tr>\n",
       "      <th>5</th>\n",
       "      <td>viga-glums_saga.en.txt</td>\n",
       "      <td>\\nThe Saga of Viga-Glum\\n1866 translation into...</td>\n",
       "    </tr>\n",
       "    <tr>\n",
       "      <th>6</th>\n",
       "      <td>hrafnkels_saga_freysgoda.en.txt</td>\n",
       "      <td>\\nThe Story of Hrafnkell, Frey's Priest\\n1882 ...</td>\n",
       "    </tr>\n",
       "    <tr>\n",
       "      <th>7</th>\n",
       "      <td>viglundar_saga.en.txt</td>\n",
       "      <td>\\nThe Saga of Viglund the Fair\\n1901 translati...</td>\n",
       "    </tr>\n",
       "    <tr>\n",
       "      <th>8</th>\n",
       "      <td>faereyinga_saga.en.txt</td>\n",
       "      <td>\\nThe Saga of Thrond of Gate\\n1896 translation...</td>\n",
       "    </tr>\n",
       "    <tr>\n",
       "      <th>9</th>\n",
       "      <td>grettis_saga.en2.txt</td>\n",
       "      <td>\\nGrettir's Saga\\n1914 translation into Englis...</td>\n",
       "    </tr>\n",
       "    <tr>\n",
       "      <th>10</th>\n",
       "      <td>laxdaela_saga.en.txt</td>\n",
       "      <td>\\nThe Laxdale Saga\\n1880 translation into Engl...</td>\n",
       "    </tr>\n",
       "    <tr>\n",
       "      <th>11</th>\n",
       "      <td>egils_saga.en.txt</td>\n",
       "      <td>\\nEgil's Saga\\n1893 translation into English b...</td>\n",
       "    </tr>\n",
       "    <tr>\n",
       "      <th>12</th>\n",
       "      <td>bandamanna_saga.en2.txt</td>\n",
       "      <td>\\nThe Story of the Confederates\\n1882 translat...</td>\n",
       "    </tr>\n",
       "    <tr>\n",
       "      <th>13</th>\n",
       "      <td>heidarviga_saga.en.txt</td>\n",
       "      <td>\\nThe Saga of the Heath Slayings\\n1892 transla...</td>\n",
       "    </tr>\n",
       "    <tr>\n",
       "      <th>14</th>\n",
       "      <td>grettis_saga.en.txt</td>\n",
       "      <td>\\nGrettir's Saga\\n1900 translation into Englis...</td>\n",
       "    </tr>\n",
       "    <tr>\n",
       "      <th>15</th>\n",
       "      <td>eyrbyggja_saga.en.txt</td>\n",
       "      <td>\\nThe Saga of the Ere-Dwellers\\n1892 translati...</td>\n",
       "    </tr>\n",
       "    <tr>\n",
       "      <th>16</th>\n",
       "      <td>thordar_saga_hredu.en.txt</td>\n",
       "      <td>\\nThe Story of Thórðr Hreða\\n1882 translation ...</td>\n",
       "    </tr>\n",
       "    <tr>\n",
       "      <th>17</th>\n",
       "      <td>eiriks_saga_rauda.en.txt</td>\n",
       "      <td>\\nThe Saga of Erik the Red\\n1880 translation i...</td>\n",
       "    </tr>\n",
       "    <tr>\n",
       "      <th>18</th>\n",
       "      <td>gunnlaugs_saga_ormstungu.en.txt</td>\n",
       "      <td>\\nThe Saga of Gunnlaug the Worm-Tongue and Raf...</td>\n",
       "    </tr>\n",
       "    <tr>\n",
       "      <th>19</th>\n",
       "      <td>bandamanna_saga.en.txt</td>\n",
       "      <td>\\nThe Story of the Banded Men\\n1891 translatio...</td>\n",
       "    </tr>\n",
       "  </tbody>\n",
       "</table>\n",
       "</div>"
      ],
      "text/plain": [
       "                          saga_name  \\\n",
       "0             laxdaela_saga.en2.txt   \n",
       "1               kormaks_saga.en.txt   \n",
       "2       haensna-thoris_saga.en2.txt   \n",
       "3   havardar_saga_isfirdings.en.txt   \n",
       "4        haensna-thoris_saga.en.txt   \n",
       "5            viga-glums_saga.en.txt   \n",
       "6   hrafnkels_saga_freysgoda.en.txt   \n",
       "7             viglundar_saga.en.txt   \n",
       "8            faereyinga_saga.en.txt   \n",
       "9              grettis_saga.en2.txt   \n",
       "10             laxdaela_saga.en.txt   \n",
       "11                egils_saga.en.txt   \n",
       "12          bandamanna_saga.en2.txt   \n",
       "13           heidarviga_saga.en.txt   \n",
       "14              grettis_saga.en.txt   \n",
       "15            eyrbyggja_saga.en.txt   \n",
       "16        thordar_saga_hredu.en.txt   \n",
       "17         eiriks_saga_rauda.en.txt   \n",
       "18  gunnlaugs_saga_ormstungu.en.txt   \n",
       "19           bandamanna_saga.en.txt   \n",
       "\n",
       "                                                 text  \n",
       "0   \\nThe Story of the Laxdalers\\n1903 translation...  \n",
       "1   \\nThe Saga of Cormac the Skald\\n1901 translati...  \n",
       "2   \\nHænsa-Thori's Saga\\n2002 translation into En...  \n",
       "3   \\nThe Story of Howard the Halt\\n1891 translati...  \n",
       "4   \\nThe Story of Hen-Thorir\\n1891 translation in...  \n",
       "5   \\nThe Saga of Viga-Glum\\n1866 translation into...  \n",
       "6   \\nThe Story of Hrafnkell, Frey's Priest\\n1882 ...  \n",
       "7   \\nThe Saga of Viglund the Fair\\n1901 translati...  \n",
       "8   \\nThe Saga of Thrond of Gate\\n1896 translation...  \n",
       "9   \\nGrettir's Saga\\n1914 translation into Englis...  \n",
       "10  \\nThe Laxdale Saga\\n1880 translation into Engl...  \n",
       "11  \\nEgil's Saga\\n1893 translation into English b...  \n",
       "12  \\nThe Story of the Confederates\\n1882 translat...  \n",
       "13  \\nThe Saga of the Heath Slayings\\n1892 transla...  \n",
       "14  \\nGrettir's Saga\\n1900 translation into Englis...  \n",
       "15  \\nThe Saga of the Ere-Dwellers\\n1892 translati...  \n",
       "16  \\nThe Story of Thórðr Hreða\\n1882 translation ...  \n",
       "17  \\nThe Saga of Erik the Red\\n1880 translation i...  \n",
       "18  \\nThe Saga of Gunnlaug the Worm-Tongue and Raf...  \n",
       "19  \\nThe Story of the Banded Men\\n1891 translatio...  "
      ]
     },
     "execution_count": 7,
     "metadata": {},
     "output_type": "execute_result"
    }
   ],
   "source": [
    "raw.head(20)"
   ]
  },
  {
   "cell_type": "markdown",
   "metadata": {},
   "source": [
    "## Clean Text"
   ]
  },
  {
   "cell_type": "code",
   "execution_count": 8,
   "metadata": {},
   "outputs": [],
   "source": [
    "def book_lines(raw, num):\n",
    "    \n",
    "    lines = []\n",
    "    \n",
    "    for i, line in enumerate(raw.loc[num, 'text'].split('\\n')):\n",
    "        \n",
    "        if len(line) > 0 and 'translation into English' not in line and not line.isspace():\n",
    "            lines.append(line)\n",
    "        \n",
    "    return lines\n",
    "\n",
    "def chapter_by_lines(lines):\n",
    "    \n",
    "    book_title = lines[0]\n",
    "    chapter_titles = []\n",
    "    chapter_texts = []\n",
    "    \n",
    "    book = pd.DataFrame()\n",
    "    \n",
    "    ch = -1\n",
    "    \n",
    "    for i, line in enumerate(lines):\n",
    "        \n",
    "        if i == 0:\n",
    "            print(line)\n",
    "            continue\n",
    "        \n",
    "        if 'Chapter' in line and any(char.isdigit() for char in line):\n",
    "            chapter_titles.append(line)\n",
    "            chapter_texts.append('')\n",
    "            ch += 1\n",
    "            \n",
    "            continue\n",
    "            print('Unreachable print statement')\n",
    "        \n",
    "        if len(line) > 0 and 'translation into English' not in line and not line.isspace():\n",
    "            chapter_texts[ch] += line\n",
    "        \n",
    "    book['chapter_title'] = chapter_titles\n",
    "    book['chapter_text'] = chapter_texts\n",
    "    \n",
    "    return book\n",
    "\n"
   ]
  },
  {
   "cell_type": "code",
   "execution_count": 9,
   "metadata": {},
   "outputs": [
    {
     "name": "stdout",
     "output_type": "stream",
     "text": [
      "Egil's Saga\n"
     ]
    },
    {
     "data": {
      "text/html": [
       "<div>\n",
       "<style scoped>\n",
       "    .dataframe tbody tr th:only-of-type {\n",
       "        vertical-align: middle;\n",
       "    }\n",
       "\n",
       "    .dataframe tbody tr th {\n",
       "        vertical-align: top;\n",
       "    }\n",
       "\n",
       "    .dataframe thead th {\n",
       "        text-align: right;\n",
       "    }\n",
       "</style>\n",
       "<table border=\"1\" class=\"dataframe\">\n",
       "  <thead>\n",
       "    <tr style=\"text-align: right;\">\n",
       "      <th></th>\n",
       "      <th>chapter_title</th>\n",
       "      <th>chapter_text</th>\n",
       "    </tr>\n",
       "  </thead>\n",
       "  <tbody>\n",
       "    <tr>\n",
       "      <th>0</th>\n",
       "      <td>Chapter 1 - Of Kveldulf and his sons.</td>\n",
       "      <td>There was a man named Ulf, son of Bjalf, and H...</td>\n",
       "    </tr>\n",
       "    <tr>\n",
       "      <th>1</th>\n",
       "      <td>Chapter 2 - Of Aulvir Hnuf.</td>\n",
       "      <td>Audbjorn was then king over the Firthfolk; the...</td>\n",
       "    </tr>\n",
       "    <tr>\n",
       "      <th>2</th>\n",
       "      <td>Chapter 3 - The beginning of the rule of Harol...</td>\n",
       "      <td>Harold, son of Halfdan Swarthy, was heir after...</td>\n",
       "    </tr>\n",
       "    <tr>\n",
       "      <th>3</th>\n",
       "      <td>Chapter 4 - Battle of king Harold and Audbjorn.</td>\n",
       "      <td>King Audbjorn went with his forces northwards ...</td>\n",
       "    </tr>\n",
       "    <tr>\n",
       "      <th>4</th>\n",
       "      <td>Chapter 5 - The king's message to Kveldulf.</td>\n",
       "      <td>King Harold lay with his fleet in the Firths, ...</td>\n",
       "    </tr>\n",
       "  </tbody>\n",
       "</table>\n",
       "</div>"
      ],
      "text/plain": [
       "                                       chapter_title  \\\n",
       "0              Chapter 1 - Of Kveldulf and his sons.   \n",
       "1                        Chapter 2 - Of Aulvir Hnuf.   \n",
       "2  Chapter 3 - The beginning of the rule of Harol...   \n",
       "3    Chapter 4 - Battle of king Harold and Audbjorn.   \n",
       "4        Chapter 5 - The king's message to Kveldulf.   \n",
       "\n",
       "                                        chapter_text  \n",
       "0  There was a man named Ulf, son of Bjalf, and H...  \n",
       "1  Audbjorn was then king over the Firthfolk; the...  \n",
       "2  Harold, son of Halfdan Swarthy, was heir after...  \n",
       "3  King Audbjorn went with his forces northwards ...  \n",
       "4  King Harold lay with his fleet in the Firths, ...  "
      ]
     },
     "execution_count": 9,
     "metadata": {},
     "output_type": "execute_result"
    }
   ],
   "source": [
    "lines = book_lines(raw, 11)\n",
    "Egil = chapter_by_lines(lines)\n",
    "Egil.head()"
   ]
  },
  {
   "cell_type": "code",
   "execution_count": 10,
   "metadata": {},
   "outputs": [],
   "source": [
    "tfidf = TfidfVectorizer(max_df=0.5, # drop words that occur in more than half the paragraphs\n",
    "                             min_df=2, # only use words that appear at least twice\n",
    "                             stop_words='english',\n",
    "                             lowercase=True, #convert everything to lower case\n",
    "                             use_idf=True,#we definitely want to use inverse document frequencies in our weighting\n",
    "                             norm=u'l2', #Applies a correction factor so that longer paragraphs and shorter paragraphs get treated equally\n",
    "                             smooth_idf=True #Adds 1 to all document frequencies, as if an extra document existed that used every word once.  Prevents divide-by-zero errors\n",
    "                            )"
   ]
  },
  {
   "cell_type": "markdown",
   "metadata": {},
   "source": [
    "## Topic Extraction"
   ]
  },
  {
   "cell_type": "code",
   "execution_count": 11,
   "metadata": {},
   "outputs": [],
   "source": [
    "def tfidf_this(series, tfidf):\n",
    "    x = tfidf.fit_transform(series)\n",
    "    tfidf_results = pd.DataFrame(index = tfidf.vocabulary_)\n",
    "    tfidf_results['score'] = tfidf.idf_\n",
    "    return tfidf_results"
   ]
  },
  {
   "cell_type": "code",
   "execution_count": 12,
   "metadata": {},
   "outputs": [],
   "source": [
    "series = Egil['chapter_text'].values\n",
    "\n",
    "res = tfidf_this(series,tfidf)"
   ]
  },
  {
   "cell_type": "code",
   "execution_count": 13,
   "metadata": {},
   "outputs": [
    {
     "data": {
      "text/html": [
       "<div>\n",
       "<style scoped>\n",
       "    .dataframe tbody tr th:only-of-type {\n",
       "        vertical-align: middle;\n",
       "    }\n",
       "\n",
       "    .dataframe tbody tr th {\n",
       "        vertical-align: top;\n",
       "    }\n",
       "\n",
       "    .dataframe thead th {\n",
       "        text-align: right;\n",
       "    }\n",
       "</style>\n",
       "<table border=\"1\" class=\"dataframe\">\n",
       "  <thead>\n",
       "    <tr style=\"text-align: right;\">\n",
       "      <th></th>\n",
       "      <th>score</th>\n",
       "    </tr>\n",
       "  </thead>\n",
       "  <tbody>\n",
       "    <tr>\n",
       "      <th>church</th>\n",
       "      <td>4.433987</td>\n",
       "    </tr>\n",
       "    <tr>\n",
       "      <th>gift</th>\n",
       "      <td>4.433987</td>\n",
       "    </tr>\n",
       "    <tr>\n",
       "      <th>bit</th>\n",
       "      <td>4.433987</td>\n",
       "    </tr>\n",
       "    <tr>\n",
       "      <th>wit</th>\n",
       "      <td>4.433987</td>\n",
       "    </tr>\n",
       "    <tr>\n",
       "      <th>hroaldsson</th>\n",
       "      <td>4.433987</td>\n",
       "    </tr>\n",
       "    <tr>\n",
       "      <th>thanked</th>\n",
       "      <td>4.433987</td>\n",
       "    </tr>\n",
       "    <tr>\n",
       "      <th>adding</th>\n",
       "      <td>4.433987</td>\n",
       "    </tr>\n",
       "    <tr>\n",
       "      <th>bjorn</th>\n",
       "      <td>4.433987</td>\n",
       "    </tr>\n",
       "    <tr>\n",
       "      <th>naming</th>\n",
       "      <td>4.433987</td>\n",
       "    </tr>\n",
       "    <tr>\n",
       "      <th>poetry</th>\n",
       "      <td>4.433987</td>\n",
       "    </tr>\n",
       "    <tr>\n",
       "      <th>supreme</th>\n",
       "      <td>4.433987</td>\n",
       "    </tr>\n",
       "    <tr>\n",
       "      <th>healing</th>\n",
       "      <td>4.433987</td>\n",
       "    </tr>\n",
       "    <tr>\n",
       "      <th>swell</th>\n",
       "      <td>4.433987</td>\n",
       "    </tr>\n",
       "    <tr>\n",
       "      <th>customary</th>\n",
       "      <td>4.433987</td>\n",
       "    </tr>\n",
       "    <tr>\n",
       "      <th>began</th>\n",
       "      <td>4.433987</td>\n",
       "    </tr>\n",
       "    <tr>\n",
       "      <th>poem</th>\n",
       "      <td>4.433987</td>\n",
       "    </tr>\n",
       "    <tr>\n",
       "      <th>ask</th>\n",
       "      <td>4.433987</td>\n",
       "    </tr>\n",
       "    <tr>\n",
       "      <th>kinsman</th>\n",
       "      <td>4.433987</td>\n",
       "    </tr>\n",
       "    <tr>\n",
       "      <th>therefor</th>\n",
       "      <td>4.433987</td>\n",
       "    </tr>\n",
       "    <tr>\n",
       "      <th>arrangement</th>\n",
       "      <td>4.433987</td>\n",
       "    </tr>\n",
       "  </tbody>\n",
       "</table>\n",
       "</div>"
      ],
      "text/plain": [
       "                score\n",
       "church       4.433987\n",
       "gift         4.433987\n",
       "bit          4.433987\n",
       "wit          4.433987\n",
       "hroaldsson   4.433987\n",
       "thanked      4.433987\n",
       "adding       4.433987\n",
       "bjorn        4.433987\n",
       "naming       4.433987\n",
       "poetry       4.433987\n",
       "supreme      4.433987\n",
       "healing      4.433987\n",
       "swell        4.433987\n",
       "customary    4.433987\n",
       "began        4.433987\n",
       "poem         4.433987\n",
       "ask          4.433987\n",
       "kinsman      4.433987\n",
       "therefor     4.433987\n",
       "arrangement  4.433987"
      ]
     },
     "execution_count": 13,
     "metadata": {},
     "output_type": "execute_result"
    }
   ],
   "source": [
    "res.sort_values('score', ascending = False).head(20)"
   ]
  },
  {
   "cell_type": "code",
   "execution_count": 16,
   "metadata": {},
   "outputs": [],
   "source": [
    "#LDA Model\n",
    "texts_egil = word_parser(Egil['chapter_text'])\n",
    "dictionary_egil = corpora.Dictionary(texts_egil)\n",
    "corpus_egil = [dictionary_egil.doc2bow(text) for text in texts_egil]\n",
    "ldamodel_egil = gensim.models.ldamodel.LdaModel(corpus_egil, num_topics= 10, id2word = dictionary_egil, passes=20)\n"
   ]
  },
  {
   "cell_type": "code",
   "execution_count": 17,
   "metadata": {},
   "outputs": [
    {
     "name": "stdout",
     "output_type": "stream",
     "text": [
      "(0, '0.018*\"egil\" + 0.012*\"men\" + 0.011*\"went\" + 0.010*\"came\" + 0.006*\"said\" + 0.006*\"go\" + 0.005*\"took\" + 0.005*\"son\" + 0.005*\"king\" + 0.005*\"one\" + 0.004*\"made\" + 0.004*\"much\" + 0.004*\"man\" + 0.004*\"named\" + 0.004*\"large\" + 0.004*\"would\" + 0.003*\"could\" + 0.003*\"thorolf\" + 0.003*\"wood\" + 0.003*\"ship\"')\n",
      "<class 'list'>\n"
     ]
    }
   ],
   "source": [
    "print(ldamodel_egil.print_topics(num_topics = 10, num_words=20)[0])\n",
    "\n",
    "print(type(corpus_egil))"
   ]
  },
  {
   "cell_type": "markdown",
   "metadata": {},
   "source": [
    "## Word2Vec"
   ]
  },
  {
   "cell_type": "code",
   "execution_count": 18,
   "metadata": {},
   "outputs": [],
   "source": [
    "data = tokenizer(corpus_stringer(raw['text']))\n",
    "\n",
    "w2v = gensim.models.Word2Vec(data, min_count = 1, size = 100, window = 5, sg = 1)"
   ]
  },
  {
   "cell_type": "code",
   "execution_count": 19,
   "metadata": {},
   "outputs": [
    {
     "name": "stderr",
     "output_type": "stream",
     "text": [
      "/usr/local/lib/python3.6/dist-packages/ipykernel_launcher.py:1: DeprecationWarning: Call to deprecated `similarity` (Method will be removed in 4.0.0, use self.wv.similarity() instead).\n",
      "  \"\"\"Entry point for launching an IPython kernel.\n"
     ]
    },
    {
     "data": {
      "text/plain": [
       "0.7776163"
      ]
     },
     "execution_count": 19,
     "metadata": {},
     "output_type": "execute_result"
    }
   ],
   "source": [
    "w2v.similarity('egil', 'gisli')"
   ]
  },
  {
   "cell_type": "code",
   "execution_count": 20,
   "metadata": {},
   "outputs": [
    {
     "name": "stdout",
     "output_type": "stream",
     "text": [
      "[('howard', 0.8499347567558289), ('thiostolf', 0.8360424637794495), ('herstein', 0.8317462801933289), ('arinbjorn', 0.8309187293052673), ('gunnlaug', 0.8272645473480225), ('sámr', 0.8269596099853516), ('thangbrand', 0.8262370228767395), ('hrut', 0.8249735832214355), ('thrond', 0.8220682740211487), ('steinar', 0.821546196937561)]\n"
     ]
    },
    {
     "name": "stderr",
     "output_type": "stream",
     "text": [
      "/usr/local/lib/python3.6/dist-packages/ipykernel_launcher.py:1: DeprecationWarning: Call to deprecated `most_similar` (Method will be removed in 4.0.0, use self.wv.most_similar() instead).\n",
      "  \"\"\"Entry point for launching an IPython kernel.\n"
     ]
    }
   ],
   "source": [
    "print(w2v.most_similar(positive = ['egil'], topn = 10))"
   ]
  },
  {
   "cell_type": "code",
   "execution_count": 21,
   "metadata": {},
   "outputs": [
    {
     "name": "stderr",
     "output_type": "stream",
     "text": [
      "/usr/local/lib/python3.6/dist-packages/ipykernel_launcher.py:3: DeprecationWarning: Call to deprecated `most_similar` (Method will be removed in 4.0.0, use self.wv.most_similar() instead).\n",
      "  This is separate from the ipykernel package so we can avoid doing imports until\n"
     ]
    }
   ],
   "source": [
    "results = pd.DataFrame()\n",
    "term, score = [],[]\n",
    "for entry in w2v.most_similar(positive = ['egil'], topn = 10):\n",
    "    term.append(entry[0])\n",
    "    score.append(round(entry[1], 4))\n",
    "results['Term'] = term\n",
    "results['Score'] = score"
   ]
  },
  {
   "cell_type": "code",
   "execution_count": 22,
   "metadata": {},
   "outputs": [
    {
     "data": {
      "text/html": [
       "<div>\n",
       "<style scoped>\n",
       "    .dataframe tbody tr th:only-of-type {\n",
       "        vertical-align: middle;\n",
       "    }\n",
       "\n",
       "    .dataframe tbody tr th {\n",
       "        vertical-align: top;\n",
       "    }\n",
       "\n",
       "    .dataframe thead th {\n",
       "        text-align: right;\n",
       "    }\n",
       "</style>\n",
       "<table border=\"1\" class=\"dataframe\">\n",
       "  <thead>\n",
       "    <tr style=\"text-align: right;\">\n",
       "      <th></th>\n",
       "      <th>Term</th>\n",
       "      <th>Score</th>\n",
       "    </tr>\n",
       "  </thead>\n",
       "  <tbody>\n",
       "    <tr>\n",
       "      <th>0</th>\n",
       "      <td>howard</td>\n",
       "      <td>0.8499</td>\n",
       "    </tr>\n",
       "    <tr>\n",
       "      <th>1</th>\n",
       "      <td>thiostolf</td>\n",
       "      <td>0.8360</td>\n",
       "    </tr>\n",
       "    <tr>\n",
       "      <th>2</th>\n",
       "      <td>herstein</td>\n",
       "      <td>0.8317</td>\n",
       "    </tr>\n",
       "    <tr>\n",
       "      <th>3</th>\n",
       "      <td>arinbjorn</td>\n",
       "      <td>0.8309</td>\n",
       "    </tr>\n",
       "    <tr>\n",
       "      <th>4</th>\n",
       "      <td>gunnlaug</td>\n",
       "      <td>0.8273</td>\n",
       "    </tr>\n",
       "    <tr>\n",
       "      <th>5</th>\n",
       "      <td>sámr</td>\n",
       "      <td>0.8270</td>\n",
       "    </tr>\n",
       "    <tr>\n",
       "      <th>6</th>\n",
       "      <td>thangbrand</td>\n",
       "      <td>0.8262</td>\n",
       "    </tr>\n",
       "    <tr>\n",
       "      <th>7</th>\n",
       "      <td>hrut</td>\n",
       "      <td>0.8250</td>\n",
       "    </tr>\n",
       "    <tr>\n",
       "      <th>8</th>\n",
       "      <td>thrond</td>\n",
       "      <td>0.8221</td>\n",
       "    </tr>\n",
       "    <tr>\n",
       "      <th>9</th>\n",
       "      <td>steinar</td>\n",
       "      <td>0.8215</td>\n",
       "    </tr>\n",
       "  </tbody>\n",
       "</table>\n",
       "</div>"
      ],
      "text/plain": [
       "         Term   Score\n",
       "0      howard  0.8499\n",
       "1   thiostolf  0.8360\n",
       "2    herstein  0.8317\n",
       "3   arinbjorn  0.8309\n",
       "4    gunnlaug  0.8273\n",
       "5        sámr  0.8270\n",
       "6  thangbrand  0.8262\n",
       "7        hrut  0.8250\n",
       "8      thrond  0.8221\n",
       "9     steinar  0.8215"
      ]
     },
     "execution_count": 22,
     "metadata": {},
     "output_type": "execute_result"
    }
   ],
   "source": [
    "results"
   ]
  },
  {
   "cell_type": "code",
   "execution_count": 30,
   "metadata": {},
   "outputs": [
    {
     "data": {
      "image/png": "[encoded data removed]",
      "text/plain": [
       "<Figure size 432x288 with 1 Axes>"
      ]
     },
     "metadata": {
      "needs_background": "light"
     },
     "output_type": "display_data"
    }
   ],
   "source": [
    "plt.bar(results['Term'],results['Score'], color = 'red')\n",
    "plt.title('Top 10 terms most similar to Egil')\n",
    "plt.xlabel('Term')\n",
    "plt.ylabel('Score')\n",
    "plt.xticks(rotation = 45)\n",
    "plt.show()"
   ]
  },
  {
   "cell_type": "code",
   "execution_count": 32,
   "metadata": {},
   "outputs": [
    {
     "name": "stdout",
     "output_type": "stream",
     "text": [
      "0.8499\n"
     ]
    }
   ],
   "source": [
    "print(results['Score'].max())"
   ]
  },
  {
   "cell_type": "code",
   "execution_count": null,
   "metadata": {},
   "outputs": [],
   "source": []
  }
 ],
 "metadata": {
  "kernelspec": {
   "display_name": "Python 3",
   "language": "python",
   "name": "python3"
  },
  "language_info": {
   "codemirror_mode": {
    "name": "ipython",
    "version": 3
   },
   "file_extension": ".py",
   "mimetype": "text/x-python",
   "name": "python",
   "nbconvert_exporter": "python",
   "pygments_lexer": "ipython3",
   "version": "3.6.8"
  }
 },
 "nbformat": 4,
 "nbformat_minor": 2
}
