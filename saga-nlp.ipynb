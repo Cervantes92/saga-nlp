{
 "cells": [
  {
   "cell_type": "markdown",
   "metadata": {},
   "source": [
    "## Prepare Dependencies"
   ]
  },
  {
   "cell_type": "code",
   "execution_count": 1,
   "metadata": {},
   "outputs": [],
   "source": [
    "import pandas as pd\n",
    "import nltk\n",
    "import spacy\n",
    "from os import listdir\n",
    "from os.path import isfile, join\n",
    "\n",
    "from gensim import corpora, models"
   ]
  },
  {
   "cell_type": "code",
   "execution_count": 2,
   "metadata": {},
   "outputs": [],
   "source": [
    "#Global Variables\n",
    "nlp = spacy.load('en')"
   ]
  },
  {
   "cell_type": "markdown",
   "metadata": {},
   "source": [
    "## Helper Functions"
   ]
  },
  {
   "cell_type": "code",
   "execution_count": 3,
   "metadata": {},
   "outputs": [],
   "source": [
    "def string_maker(file_path):\n",
    "    with open(str(file_path), 'r') as f_open:\n",
    "        results = f_open.read()\n",
    "    return results"
   ]
  },
  {
   "cell_type": "markdown",
   "metadata": {},
   "source": [
    "## Wrangle Data"
   ]
  },
  {
   "cell_type": "code",
   "execution_count": 4,
   "metadata": {},
   "outputs": [
    {
     "name": "stdout",
     "output_type": "stream",
     "text": [
      "['laxdaela_saga.en2.txt', 'kormaks_saga.en.txt', 'haensna-thoris_saga.en2.txt', 'havardar_saga_isfirdings.en.txt', 'haensna-thoris_saga.en.txt', 'viga-glums_saga.en.txt', 'hrafnkels_saga_freysgoda.en.txt', 'viglundar_saga.en.txt', 'faereyinga_saga.en.txt', 'grettis_saga.en2.txt', 'laxdaela_saga.en.txt', 'egils_saga.en.txt', 'bandamanna_saga.en2.txt', 'heidarviga_saga.en.txt', 'grettis_saga.en.txt', 'eyrbyggja_saga.en.txt', 'thordar_saga_hredu.en.txt', 'eiriks_saga_rauda.en.txt', 'gunnlaugs_saga_ormstungu.en.txt', 'bandamanna_saga.en.txt', 'brennu-njals_saga.en.txt', 'gisla_saga_surssonar.en.txt']\n"
     ]
    }
   ],
   "source": [
    "file_names = []\n",
    "for file in listdir('saga/english/'):\n",
    "    file_names.append(str(file))\n",
    "\n",
    "print(file_names)"
   ]
  },
  {
   "cell_type": "code",
   "execution_count": 5,
   "metadata": {},
   "outputs": [],
   "source": [
    "#Import the text from every document as an entry in a dataframe\n",
    "corpus = []\n",
    "raw = pd.DataFrame()\n",
    "\n",
    "for book in file_names:\n",
    "    corpus.append(string_maker('saga/english/{}'.format(str(book))))\n",
    "\n",
    "raw['saga_name'] = file_names\n",
    "raw['text'] = corpus"
   ]
  },
  {
   "cell_type": "code",
   "execution_count": 6,
   "metadata": {},
   "outputs": [
    {
     "data": {
      "text/html": [
       "<div>\n",
       "<style scoped>\n",
       "    .dataframe tbody tr th:only-of-type {\n",
       "        vertical-align: middle;\n",
       "    }\n",
       "\n",
       "    .dataframe tbody tr th {\n",
       "        vertical-align: top;\n",
       "    }\n",
       "\n",
       "    .dataframe thead th {\n",
       "        text-align: right;\n",
       "    }\n",
       "</style>\n",
       "<table border=\"1\" class=\"dataframe\">\n",
       "  <thead>\n",
       "    <tr style=\"text-align: right;\">\n",
       "      <th></th>\n",
       "      <th>saga_name</th>\n",
       "      <th>text</th>\n",
       "    </tr>\n",
       "  </thead>\n",
       "  <tbody>\n",
       "    <tr>\n",
       "      <th>0</th>\n",
       "      <td>laxdaela_saga.en2.txt</td>\n",
       "      <td>\\nThe Story of the Laxdalers\\n1903 translation...</td>\n",
       "    </tr>\n",
       "    <tr>\n",
       "      <th>1</th>\n",
       "      <td>kormaks_saga.en.txt</td>\n",
       "      <td>\\nThe Saga of Cormac the Skald\\n1901 translati...</td>\n",
       "    </tr>\n",
       "    <tr>\n",
       "      <th>2</th>\n",
       "      <td>haensna-thoris_saga.en2.txt</td>\n",
       "      <td>\\nHænsa-Thori's Saga\\n2002 translation into En...</td>\n",
       "    </tr>\n",
       "    <tr>\n",
       "      <th>3</th>\n",
       "      <td>havardar_saga_isfirdings.en.txt</td>\n",
       "      <td>\\nThe Story of Howard the Halt\\n1891 translati...</td>\n",
       "    </tr>\n",
       "    <tr>\n",
       "      <th>4</th>\n",
       "      <td>haensna-thoris_saga.en.txt</td>\n",
       "      <td>\\nThe Story of Hen-Thorir\\n1891 translation in...</td>\n",
       "    </tr>\n",
       "  </tbody>\n",
       "</table>\n",
       "</div>"
      ],
      "text/plain": [
       "                         saga_name  \\\n",
       "0            laxdaela_saga.en2.txt   \n",
       "1              kormaks_saga.en.txt   \n",
       "2      haensna-thoris_saga.en2.txt   \n",
       "3  havardar_saga_isfirdings.en.txt   \n",
       "4       haensna-thoris_saga.en.txt   \n",
       "\n",
       "                                                text  \n",
       "0  \\nThe Story of the Laxdalers\\n1903 translation...  \n",
       "1  \\nThe Saga of Cormac the Skald\\n1901 translati...  \n",
       "2  \\nHænsa-Thori's Saga\\n2002 translation into En...  \n",
       "3  \\nThe Story of Howard the Halt\\n1891 translati...  \n",
       "4  \\nThe Story of Hen-Thorir\\n1891 translation in...  "
      ]
     },
     "execution_count": 6,
     "metadata": {},
     "output_type": "execute_result"
    }
   ],
   "source": [
    "raw.head()"
   ]
  },
  {
   "cell_type": "markdown",
   "metadata": {},
   "source": [
    "## Clean Text"
   ]
  },
  {
   "cell_type": "code",
   "execution_count": 27,
   "metadata": {},
   "outputs": [
    {
     "name": "stdout",
     "output_type": "stream",
     "text": [
      "                                                  text\n",
      "0                           The Story of the Laxdalers\n",
      "1    Ketil Flatneb hight a man, the son of Bjorn Ro...\n",
      "2    In the latter days of Ketil came to pass the r...\n",
      "3    After that had Ketil a very great guesting. Th...\n",
      "4    Ketil Flatneb came in his ship to Scotland and...\n",
      "5    Now Unn makes ready to depart from the Sheep-i...\n",
      "6    After that gives Unn of her landtake to many m...\n",
      "7    Olaf Feilan was the youngest of Thorstein's ch...\n",
      "8    Herjolf and Thorgerd had been no long time tog...\n",
      "9    At that time Hakon Aethelstan's fosterling was...\n",
      "10   Hrapp hight a man; he dwelt in Laxriverdale, o...\n",
      "11   Thord Goddi hight a man; he dwelt in Laxriverd...\n",
      "12   Now it came to pass at the beginning of summer...\n",
      "13   After that the king welcomed Hoskuld with mick...\n",
      "14   Ingjald hight a man; he dwelt in Sheepisles; t...\n",
      "15   Sithence stood up Ingjald and his folk and cla...\n",
      "16   At that time cometh Asgaut home. Vigdis greete...\n",
      "17   This is told of Hrapp, that he grew evil in hi...\n",
      "18   At that time hove up to manworthiness at Thors...\n",
      "19   Now is it to be told of Hoskuld, that his esta...\n",
      "20   Now sitteth Hoskuld at home in his steading, a...\n",
      "21   Now cometh Hoskuld home from the Thing and hea...\n",
      "22   Olaf Hoskuldson cometh now to the court of Har...\n",
      "23   It is told that one day that father and son, H...\n",
      "24   Olaf and Thorgerd abode at Hoskuldsteads, and ...\n",
      "25   Now is it to be told of the sons of Hoskuld. T...\n",
      "26   Hoskuld Koll-a-dales' son fell sick in his old...\n",
      "27   It is told of one day, when men go to the Lawh...\n",
      "28   Olaf and Thorgerd had a son. That lad was spri...\n",
      "29                            \\tHere in piteous plight\n",
      "..                                                 ...\n",
      "72   Now is it to be told what betid in the fell-co...\n",
      "73   Now after this Thorgils and his fellowship rid...\n",
      "74                         \\tAt Helgi's life we drave,\n",
      "75                       \\tto ravens corpse-meat gave,\n",
      "76                        \\tfair-roundel-oak dyed red,\n",
      "77                     \\twho fared where Thorleik led:\n",
      "78                    \\tthree smote we there to ground\n",
      "79                        \\tall wholly peerless found,\n",
      "80                      \\tkeen helm-boles of the best:\n",
      "81                     \\tnow Bolli's wrongs have rest.\n",
      "82   Gudrun then asketh diligently of the tidings t...\n",
      "83   That winter Osvif falleth sick and died: that ...\n",
      "84   Thorarin hight a man: he dwelt in Longdale. He...\n",
      "85                                \\tOn, ye wight ones,\n",
      "86                           \\tif ye deem you worthy: \n",
      "87                             \\tyet beware therewith \n",
      "88                           \\tof the wiles of Snorri:\n",
      "89                               \\tware may ye not be;\n",
      "90                                  \\twise is Snorri. \n",
      "91   After this went she her way. Then spake Thorgi...\n",
      "92   The same summer that Thorgils Hallason was sla...\n",
      "93   This summer had Gunnar Thidrandi's-bane been s...\n",
      "94   Thorkel Eyjolfson soon waxed a mickle chieftai...\n",
      "95   Through the winter are they ever meeting, Thor...\n",
      "96   Now after Bolli and Thorleik were made at one ...\n",
      "97   Now fared those brethren both to the ship in W...\n",
      "98   Now is the tale to be told of whereas was Thor...\n",
      "99   That winter after Yule Thorkel made him ready ...\n",
      "100  On Holy Thursday, early in the morning, Thorke...\n",
      "101  Now when four winters were worn from the drown...\n",
      "\n",
      "[102 rows x 1 columns]\n"
     ]
    }
   ],
   "source": [
    "n = 0\n",
    "chapters = []\n",
    "docs = []\n",
    "df = pd.DataFrame()\n",
    "\n",
    "def book_frame(raw, num):\n",
    "    \n",
    "    chapter_title, para, chapter_text = [], [], []\n",
    "    \n",
    "    paragraphs, chapters = pd.DataFrame(), pd.DataFrame()\n",
    "    \n",
    "    for i, line in enumerate(raw.loc[0, 'text'].split('\\n')):\n",
    "        #print('{}: {}'.format(i, line))\n",
    "    \n",
    "        if len(line) > 0 and 'translation into English' not in line and not line.isspace():\n",
    "            \n",
    "            #Chapter + numeric\n",
    "            if 'Chapter' in  line and any(char.isdigit() for char in line):\n",
    "                chapter_text.append(line)\n",
    "            else:\n",
    "                docs.append(line)\n",
    "    paragraphs['text'] = docs    \n",
    "    return paragraphs\n",
    "\n",
    "        \n",
    "df = book_frame(raw, 0)\n",
    "print(df)\n",
    "#translation into English"
   ]
  },
  {
   "cell_type": "code",
   "execution_count": 8,
   "metadata": {},
   "outputs": [],
   "source": [
    "w_tokenizer = nltk.tokenize.WhitespaceTokenizer()\n",
    "lemmatizer = nltk.stem.WordNetLemmatizer()"
   ]
  },
  {
   "cell_type": "markdown",
   "metadata": {},
   "source": [
    "## Topic Extraction"
   ]
  },
  {
   "cell_type": "code",
   "execution_count": null,
   "metadata": {},
   "outputs": [],
   "source": []
  }
 ],
 "metadata": {
  "kernelspec": {
   "display_name": "Python 3",
   "language": "python",
   "name": "python3"
  },
  "language_info": {
   "codemirror_mode": {
    "name": "ipython",
    "version": 3
   },
   "file_extension": ".py",
   "mimetype": "text/x-python",
   "name": "python",
   "nbconvert_exporter": "python",
   "pygments_lexer": "ipython3",
   "version": "3.6.8"
  }
 },
 "nbformat": 4,
 "nbformat_minor": 2
}
